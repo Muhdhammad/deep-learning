{
  "nbformat": 4,
  "nbformat_minor": 0,
  "metadata": {
    "colab": {
      "provenance": [],
      "authorship_tag": "ABX9TyOWawKi4UgTEHGIEDwXQ7p/",
      "include_colab_link": true
    },
    "kernelspec": {
      "name": "python3",
      "display_name": "Python 3"
    },
    "language_info": {
      "name": "python"
    }
  },
  "cells": [
    {
      "cell_type": "markdown",
      "metadata": {
        "id": "view-in-github",
        "colab_type": "text"
      },
      "source": [
        "<a href=\"https://colab.research.google.com/github/Muhdhammad/deep-learning/blob/main/tensors/tensor_basics.ipynb\" target=\"_parent\"><img src=\"https://colab.research.google.com/assets/colab-badge.svg\" alt=\"Open In Colab\"/></a>"
      ]
    },
    {
      "cell_type": "markdown",
      "source": [
        "**Tensors**"
      ],
      "metadata": {
        "id": "ya6JQiZjetN0"
      }
    },
    {
      "cell_type": "markdown",
      "source": [
        "Tensors are multi-dimensional arrays, similar to Numpy arrays but with added capabilities for GPU acceleration."
      ],
      "metadata": {
        "id": "RLpnQAGiVCwq"
      }
    },
    {
      "cell_type": "code",
      "execution_count": null,
      "metadata": {
        "id": "TZ9Gb-lEUwY4"
      },
      "outputs": [],
      "source": [
        "import torch\n",
        "import numpy as np"
      ]
    },
    {
      "cell_type": "code",
      "source": [
        "x = torch.rand(2, 3) # 2d tensor with 2 rows and 3 columns\n",
        "x"
      ],
      "metadata": {
        "colab": {
          "base_uri": "https://localhost:8080/"
        },
        "id": "_a3mLNJcUy9K",
        "outputId": "548f4c53-fece-4b21-a694-3b9612655cfd"
      },
      "execution_count": null,
      "outputs": [
        {
          "output_type": "execute_result",
          "data": {
            "text/plain": [
              "tensor([[0.0069, 0.9924, 0.5986],\n",
              "        [0.3698, 0.9819, 0.9726]])"
            ]
          },
          "metadata": {},
          "execution_count": 2
        }
      ]
    },
    {
      "cell_type": "code",
      "source": [
        "y = torch.zeros(2, 3, 4)       # 3d tensor with 2 arrays, each having 3 rows and 4 columns\n",
        "y"
      ],
      "metadata": {
        "colab": {
          "base_uri": "https://localhost:8080/"
        },
        "id": "Go439X2CXMyt",
        "outputId": "8c6f91eb-e6bb-4b9f-bd50-57d5b0cc8b8d"
      },
      "execution_count": null,
      "outputs": [
        {
          "output_type": "execute_result",
          "data": {
            "text/plain": [
              "tensor([[[0., 0., 0., 0.],\n",
              "         [0., 0., 0., 0.],\n",
              "         [0., 0., 0., 0.]],\n",
              "\n",
              "        [[0., 0., 0., 0.],\n",
              "         [0., 0., 0., 0.],\n",
              "         [0., 0., 0., 0.]]])"
            ]
          },
          "metadata": {},
          "execution_count": 3
        }
      ]
    },
    {
      "cell_type": "code",
      "source": [
        "y.dtype"
      ],
      "metadata": {
        "colab": {
          "base_uri": "https://localhost:8080/"
        },
        "id": "Dk5EvpaLXYbQ",
        "outputId": "842e76e5-fc99-4383-da9d-694fe7a84800"
      },
      "execution_count": null,
      "outputs": [
        {
          "output_type": "execute_result",
          "data": {
            "text/plain": [
              "torch.float32"
            ]
          },
          "metadata": {},
          "execution_count": 4
        }
      ]
    },
    {
      "cell_type": "code",
      "source": [
        "y.shape"
      ],
      "metadata": {
        "colab": {
          "base_uri": "https://localhost:8080/"
        },
        "id": "HgUAZvRkXzPY",
        "outputId": "db42d420-d116-4d01-c4fb-1de08978c19a"
      },
      "execution_count": null,
      "outputs": [
        {
          "output_type": "execute_result",
          "data": {
            "text/plain": [
              "torch.Size([2, 3, 4])"
            ]
          },
          "metadata": {},
          "execution_count": 5
        }
      ]
    },
    {
      "cell_type": "code",
      "source": [
        "# Numpy array\n",
        "\n",
        "np1 = np.random.rand(2, 3)\n",
        "np1"
      ],
      "metadata": {
        "colab": {
          "base_uri": "https://localhost:8080/"
        },
        "id": "4OXg4AyyX1xA",
        "outputId": "14be8234-41f2-456a-df22-effb07af96a7"
      },
      "execution_count": null,
      "outputs": [
        {
          "output_type": "execute_result",
          "data": {
            "text/plain": [
              "array([[0.12615186, 0.46344863, 0.41032029],\n",
              "       [0.71626942, 0.87254545, 0.06515807]])"
            ]
          },
          "metadata": {},
          "execution_count": 6
        }
      ]
    },
    {
      "cell_type": "code",
      "source": [
        "# Create tensor with numpy array\n",
        "\n",
        "tensor = torch.tensor(np1)\n",
        "tensor"
      ],
      "metadata": {
        "colab": {
          "base_uri": "https://localhost:8080/"
        },
        "id": "GNekiQ83YK-d",
        "outputId": "08a6b95a-466f-4ae6-c358-7ca08616993d"
      },
      "execution_count": null,
      "outputs": [
        {
          "output_type": "execute_result",
          "data": {
            "text/plain": [
              "tensor([[0.1262, 0.4634, 0.4103],\n",
              "        [0.7163, 0.8725, 0.0652]], dtype=torch.float64)"
            ]
          },
          "metadata": {},
          "execution_count": 13
        }
      ]
    },
    {
      "cell_type": "code",
      "source": [
        "# Create tensor with list\n",
        "\n",
        "my_list = [1, 2, 3, 4, 5]\n",
        "\n",
        "tensor_list = torch.tensor(my_list)\n",
        "tensor_list"
      ],
      "metadata": {
        "colab": {
          "base_uri": "https://localhost:8080/"
        },
        "id": "rxfN-KsjZUAN",
        "outputId": "e3fab00e-654a-443d-cf0b-d240b0cc6022"
      },
      "execution_count": null,
      "outputs": [
        {
          "output_type": "execute_result",
          "data": {
            "text/plain": [
              "tensor([1, 2, 3, 4, 5])"
            ]
          },
          "metadata": {},
          "execution_count": 15
        }
      ]
    },
    {
      "cell_type": "code",
      "source": [
        "# Accessing elements in tensor\n",
        "\n",
        "my_tensor = torch.tensor([[2, 5, 7], [1, 6, 9]])\n",
        "my_tensor[1, 1]"
      ],
      "metadata": {
        "colab": {
          "base_uri": "https://localhost:8080/"
        },
        "id": "ewoyaUOOa0Jp",
        "outputId": "3393e34b-7dba-4b1d-df31-2394c4104bd2"
      },
      "execution_count": null,
      "outputs": [
        {
          "output_type": "execute_result",
          "data": {
            "text/plain": [
              "tensor(6)"
            ]
          },
          "metadata": {},
          "execution_count": 19
        }
      ]
    },
    {
      "cell_type": "code",
      "source": [
        "# Modifying elements in tensor\n",
        "\n",
        "tensor_ones = torch.ones(3, 4)\n",
        "tensor_ones[2, 3] = 5\n",
        "\n",
        "tensor_ones"
      ],
      "metadata": {
        "colab": {
          "base_uri": "https://localhost:8080/"
        },
        "id": "N3ZExjm-bWt9",
        "outputId": "2b0d36b0-9f7f-4de2-8b7c-2f52344f531e"
      },
      "execution_count": null,
      "outputs": [
        {
          "output_type": "execute_result",
          "data": {
            "text/plain": [
              "tensor([[1., 1., 1., 1.],\n",
              "        [1., 1., 1., 1.],\n",
              "        [1., 1., 1., 5.]])"
            ]
          },
          "metadata": {},
          "execution_count": 25
        }
      ]
    },
    {
      "cell_type": "code",
      "source": [
        "# Concatenation\n",
        "\n",
        "tensor1 = torch.rand(2, 3)\n",
        "tensor2 = torch.rand(2, 3)\n",
        "\n",
        "concat_tensor = torch.cat((tensor1, tensor2))\n",
        "concat_tensor"
      ],
      "metadata": {
        "colab": {
          "base_uri": "https://localhost:8080/"
        },
        "id": "nAKENbL0b1Cg",
        "outputId": "edeebdc4-3478-4e35-ab75-1d50f3a4665e"
      },
      "execution_count": null,
      "outputs": [
        {
          "output_type": "execute_result",
          "data": {
            "text/plain": [
              "tensor([[0.3124, 0.0642, 0.8112],\n",
              "        [0.7253, 0.9613, 0.7850],\n",
              "        [0.9253, 0.6565, 0.4306],\n",
              "        [0.2794, 0.1989, 0.7051]])"
            ]
          },
          "metadata": {},
          "execution_count": 30
        }
      ]
    }
  ]
}