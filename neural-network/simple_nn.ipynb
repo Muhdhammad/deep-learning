{
  "nbformat": 4,
  "nbformat_minor": 0,
  "metadata": {
    "colab": {
      "provenance": [],
      "authorship_tag": "ABX9TyMdF8r51eaOrbGzTGB1/xPn",
      "include_colab_link": true
    },
    "kernelspec": {
      "name": "python3",
      "display_name": "Python 3"
    },
    "language_info": {
      "name": "python"
    }
  },
  "cells": [
    {
      "cell_type": "markdown",
      "metadata": {
        "id": "view-in-github",
        "colab_type": "text"
      },
      "source": [
        "<a href=\"https://colab.research.google.com/github/Muhdhammad/deep-learning/blob/main/neural-network/simple_nn.ipynb\" target=\"_parent\"><img src=\"https://colab.research.google.com/assets/colab-badge.svg\" alt=\"Open In Colab\"/></a>"
      ]
    },
    {
      "cell_type": "code",
      "execution_count": null,
      "metadata": {
        "id": "i8xDe954fkHC"
      },
      "outputs": [],
      "source": [
        "import torch\n",
        "import torch.nn as nn"
      ]
    },
    {
      "cell_type": "code",
      "source": [
        "class Model(nn.Module):\n",
        "\n",
        "  def __init__(self, num_features):\n",
        "\n",
        "    super().__init__()\n",
        "    self.linear1 = nn.Linear(num_features, 3)\n",
        "    self.relu = nn.ReLU()\n",
        "    self.linear2 = nn.Linear(3, 1)\n",
        "    self.sigmoid = nn.Sigmoid()\n",
        "\n",
        "\n",
        "  def forward(self, features):\n",
        "\n",
        "    out = self.linear1(features)\n",
        "    out = self.relu(out)\n",
        "    out = self.linear2(out)\n",
        "    out = self.sigmoid(out)\n",
        "\n",
        "    return out"
      ],
      "metadata": {
        "id": "gdH58Bsifvh4"
      },
      "execution_count": null,
      "outputs": []
    },
    {
      "cell_type": "code",
      "source": [
        "features = torch.rand(10, 5)\n",
        "\n",
        "model = Model(features.shape[1])\n",
        "\n",
        "model(features)"
      ],
      "metadata": {
        "colab": {
          "base_uri": "https://localhost:8080/"
        },
        "id": "mW7OCo3fhc8a",
        "outputId": "c642a09b-0fc5-4a25-8036-47a800ff6717"
      },
      "execution_count": null,
      "outputs": [
        {
          "output_type": "execute_result",
          "data": {
            "text/plain": [
              "tensor([[0.3885],\n",
              "        [0.4014],\n",
              "        [0.3779],\n",
              "        [0.4182],\n",
              "        [0.3813],\n",
              "        [0.3304],\n",
              "        [0.3727],\n",
              "        [0.3678],\n",
              "        [0.3413],\n",
              "        [0.3507]], grad_fn=<SigmoidBackward0>)"
            ]
          },
          "metadata": {},
          "execution_count": 3
        }
      ]
    },
    {
      "cell_type": "code",
      "source": [
        "model.linear1.weight"
      ],
      "metadata": {
        "colab": {
          "base_uri": "https://localhost:8080/"
        },
        "id": "4ieyI3j1h9Zb",
        "outputId": "638506e6-397d-4a04-b6da-a337fe27eeee"
      },
      "execution_count": null,
      "outputs": [
        {
          "output_type": "execute_result",
          "data": {
            "text/plain": [
              "Parameter containing:\n",
              "tensor([[ 0.3155,  0.3563,  0.0637,  0.0972,  0.2354],\n",
              "        [-0.2723,  0.3573,  0.2814,  0.4007, -0.4140],\n",
              "        [ 0.1323,  0.3722, -0.0686, -0.0292,  0.2909]], requires_grad=True)"
            ]
          },
          "metadata": {},
          "execution_count": 4
        }
      ]
    },
    {
      "cell_type": "code",
      "source": [
        "model.linear2.weight"
      ],
      "metadata": {
        "colab": {
          "base_uri": "https://localhost:8080/"
        },
        "id": "jadVlMXLn0Yw",
        "outputId": "1a2b3cc5-f62f-46c7-d932-77deb4bb7d43"
      },
      "execution_count": null,
      "outputs": [
        {
          "output_type": "execute_result",
          "data": {
            "text/plain": [
              "Parameter containing:\n",
              "tensor([[-0.4511, -0.3702, -0.4263]], requires_grad=True)"
            ]
          },
          "metadata": {},
          "execution_count": 5
        }
      ]
    },
    {
      "cell_type": "code",
      "source": [
        "model.linear1.bias"
      ],
      "metadata": {
        "colab": {
          "base_uri": "https://localhost:8080/"
        },
        "id": "jIcs2Mari1bt",
        "outputId": "bf03175d-96e3-4569-ee5d-5502b3cb50d8"
      },
      "execution_count": null,
      "outputs": [
        {
          "output_type": "execute_result",
          "data": {
            "text/plain": [
              "Parameter containing:\n",
              "tensor([-0.2374, -0.3417, -0.1121], requires_grad=True)"
            ]
          },
          "metadata": {},
          "execution_count": 6
        }
      ]
    },
    {
      "cell_type": "code",
      "source": [
        "model.linear2.bias"
      ],
      "metadata": {
        "colab": {
          "base_uri": "https://localhost:8080/"
        },
        "id": "KbtR0AZxoABc",
        "outputId": "e8f075c5-9da6-4014-a2e0-9e6e1d82c6c7"
      },
      "execution_count": null,
      "outputs": [
        {
          "output_type": "execute_result",
          "data": {
            "text/plain": [
              "Parameter containing:\n",
              "tensor([-0.2947], requires_grad=True)"
            ]
          },
          "metadata": {},
          "execution_count": 7
        }
      ]
    },
    {
      "cell_type": "code",
      "source": [
        "!pip install torchinfo"
      ],
      "metadata": {
        "colab": {
          "base_uri": "https://localhost:8080/"
        },
        "id": "hlnEsvLwjnu-",
        "outputId": "b4aa6f4e-5db3-4769-fc07-3dd6e73edbfc"
      },
      "execution_count": null,
      "outputs": [
        {
          "output_type": "stream",
          "name": "stdout",
          "text": [
            "Requirement already satisfied: torchinfo in /usr/local/lib/python3.11/dist-packages (1.8.0)\n"
          ]
        }
      ]
    },
    {
      "cell_type": "code",
      "source": [
        "from torchinfo import summary\n",
        "\n",
        "summary(model, input_size=(20, 5))"
      ],
      "metadata": {
        "colab": {
          "base_uri": "https://localhost:8080/"
        },
        "id": "te1dFGeKjImt",
        "outputId": "5ece0a0a-1c68-4e28-f910-bd89ae9d0ebd"
      },
      "execution_count": null,
      "outputs": [
        {
          "output_type": "execute_result",
          "data": {
            "text/plain": [
              "==========================================================================================\n",
              "Layer (type:depth-idx)                   Output Shape              Param #\n",
              "==========================================================================================\n",
              "Model                                    [20, 1]                   --\n",
              "├─Linear: 1-1                            [20, 3]                   18\n",
              "├─ReLU: 1-2                              [20, 3]                   --\n",
              "├─Linear: 1-3                            [20, 1]                   4\n",
              "├─Sigmoid: 1-4                           [20, 1]                   --\n",
              "==========================================================================================\n",
              "Total params: 22\n",
              "Trainable params: 22\n",
              "Non-trainable params: 0\n",
              "Total mult-adds (Units.MEGABYTES): 0.00\n",
              "==========================================================================================\n",
              "Input size (MB): 0.00\n",
              "Forward/backward pass size (MB): 0.00\n",
              "Params size (MB): 0.00\n",
              "Estimated Total Size (MB): 0.00\n",
              "=========================================================================================="
            ]
          },
          "metadata": {},
          "execution_count": 9
        }
      ]
    },
    {
      "cell_type": "markdown",
      "source": [
        "- The same neural network with sequential container"
      ],
      "metadata": {
        "id": "eFXysFsoo5rD"
      }
    },
    {
      "cell_type": "code",
      "source": [
        "class Model(nn.Module):\n",
        "\n",
        "  def __init__(self, num_features):\n",
        "\n",
        "    super().__init__()\n",
        "    self.network = nn.Sequential(\n",
        "        nn.Linear(num_features, 3),\n",
        "        nn.ReLU(),\n",
        "        nn.Linear(3, 1),\n",
        "        nn.Sigmoid()\n",
        "    )\n",
        "\n",
        "\n",
        "  def forward(self, features):\n",
        "\n",
        "    out = self.network(features)\n",
        "\n",
        "    return out"
      ],
      "metadata": {
        "id": "MKax-0O8o-r8"
      },
      "execution_count": null,
      "outputs": []
    },
    {
      "cell_type": "code",
      "source": [
        "features = torch.rand(10, 5)\n",
        "\n",
        "model = Model(features.shape[1])\n",
        "\n",
        "model(features)"
      ],
      "metadata": {
        "colab": {
          "base_uri": "https://localhost:8080/"
        },
        "id": "GbuI408gqUAv",
        "outputId": "0c0e0867-0bd5-4d63-c1aa-938c73dcbf95"
      },
      "execution_count": null,
      "outputs": [
        {
          "output_type": "execute_result",
          "data": {
            "text/plain": [
              "tensor([[0.4602],\n",
              "        [0.4599],\n",
              "        [0.4580],\n",
              "        [0.4580],\n",
              "        [0.4626],\n",
              "        [0.4607],\n",
              "        [0.4659],\n",
              "        [0.4444],\n",
              "        [0.4579],\n",
              "        [0.4654]], grad_fn=<SigmoidBackward0>)"
            ]
          },
          "metadata": {},
          "execution_count": 13
        }
      ]
    }
  ]
}