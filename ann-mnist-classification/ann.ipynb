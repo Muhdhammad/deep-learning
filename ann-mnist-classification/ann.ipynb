{
  "nbformat": 4,
  "nbformat_minor": 0,
  "metadata": {
    "colab": {
      "provenance": [],
      "authorship_tag": "ABX9TyNIXv+j1DqGIMxcLmZc7GLE",
      "include_colab_link": true
    },
    "kernelspec": {
      "name": "python3",
      "display_name": "Python 3"
    },
    "language_info": {
      "name": "python"
    }
  },
  "cells": [
    {
      "cell_type": "markdown",
      "metadata": {
        "id": "view-in-github",
        "colab_type": "text"
      },
      "source": [
        "<a href=\"https://colab.research.google.com/github/Muhdhammad/deep-learning/blob/main/ann-mnist-classification/ann.ipynb\" target=\"_parent\"><img src=\"https://colab.research.google.com/assets/colab-badge.svg\" alt=\"Open In Colab\"/></a>"
      ]
    },
    {
      "cell_type": "code",
      "execution_count": null,
      "metadata": {
        "id": "k9Iv8d3ZEieh"
      },
      "outputs": [],
      "source": [
        "import torch\n",
        "import torch.nn as nn\n",
        "import torch.nn.functional as F\n",
        "import torch.optim as optim\n",
        "import torchvision.datasets as datasets\n",
        "from torch.utils.data import DataLoader\n",
        "import torchvision.transforms as transforms"
      ]
    },
    {
      "cell_type": "markdown",
      "source": [
        "#### A fully connected neural network\n"
      ],
      "metadata": {
        "id": "CIrM_UluFSbz"
      }
    },
    {
      "cell_type": "code",
      "source": [
        "class NN(nn.Module):\n",
        "  def __init__(self, input_size, num_classes):\n",
        "    super(NN, self).__init__()\n",
        "    self.fc1 = nn.Linear(input_size, 100)     # hidden layer\n",
        "    self.fc2 = nn.Linear(100, num_classes)    # output layer\n",
        "\n",
        "  def forward(self, x):\n",
        "    x = F.relu(self.fc1(x))\n",
        "    x = self.fc2(x)\n",
        "    return x"
      ],
      "metadata": {
        "id": "6m8_F2sTE622"
      },
      "execution_count": null,
      "outputs": []
    },
    {
      "cell_type": "code",
      "source": [
        "model = NN(784, 10)\n",
        "x = torch.randn(64, 784)\n",
        "print(model(x).shape)"
      ],
      "metadata": {
        "colab": {
          "base_uri": "https://localhost:8080/"
        },
        "id": "rTawt2DbFbZ0",
        "outputId": "6e520752-1bdf-4d6f-ab9d-bc140d789b12"
      },
      "execution_count": null,
      "outputs": [
        {
          "output_type": "stream",
          "name": "stdout",
          "text": [
            "torch.Size([64, 10])\n"
          ]
        }
      ]
    },
    {
      "cell_type": "code",
      "source": [
        "device = torch.device('cuda' if torch.cuda.is_available() else 'cpu')"
      ],
      "metadata": {
        "id": "EGahnDbyYOyK"
      },
      "execution_count": null,
      "outputs": []
    },
    {
      "cell_type": "markdown",
      "source": [
        "\n",
        "#### Hyperparameters"
      ],
      "metadata": {
        "id": "siPlBjLaP1av"
      }
    },
    {
      "cell_type": "code",
      "source": [
        "input_size = 784\n",
        "num_classes = 10\n",
        "learning_rate = 0.001\n",
        "batch_size = 64\n",
        "num_epochs = 2"
      ],
      "metadata": {
        "id": "AJh6pCZGND8_"
      },
      "execution_count": null,
      "outputs": []
    },
    {
      "cell_type": "markdown",
      "source": [
        "#### Loading the Data"
      ],
      "metadata": {
        "id": "8ebpU0aoP_j-"
      }
    },
    {
      "cell_type": "code",
      "source": [
        "train_dataset = datasets.MNIST(root='./data', train=True, transform=transforms.ToTensor(), download=True)\n",
        "train_loader = DataLoader(dataset=train_dataset, batch_size=batch_size, shuffle=True)"
      ],
      "metadata": {
        "collapsed": true,
        "id": "LbIAGGXdTbR9"
      },
      "execution_count": null,
      "outputs": []
    },
    {
      "cell_type": "code",
      "source": [
        "test_dataset = datasets.MNIST(root='./data', train=False, transform=transforms.ToTensor(), download=True)\n",
        "test_loader = DataLoader(dataset=test_dataset, batch_size=batch_size, shuffle=True)"
      ],
      "metadata": {
        "id": "dZkHNOpVUZPA"
      },
      "execution_count": null,
      "outputs": []
    },
    {
      "cell_type": "markdown",
      "source": [
        "#### Initializing the network"
      ],
      "metadata": {
        "id": "J2XWidaSXb16"
      }
    },
    {
      "cell_type": "code",
      "source": [
        "model = NN(input_size=input_size, num_classes=num_classes)"
      ],
      "metadata": {
        "id": "QTVFiAauVQ1Y"
      },
      "execution_count": null,
      "outputs": []
    },
    {
      "cell_type": "markdown",
      "source": [
        "#### Loss and Optimizer\n",
        "\n",
        "Loss function:\n",
        "- ```criterion = nn.CrossEntropyLoss()``` → Define the loss function for multi-class classification, combining softmax and cross-entropy.\n",
        "\n",
        "Optimizer:\n",
        "- ```optimizer = optim.Adam(model.parameters(), lr=learning_rate)``` → Initialize the Adam optimizer to update the model's parameters based on the computed gradients, with a specified learning rate."
      ],
      "metadata": {
        "id": "YZ_yTHshYr6-"
      }
    },
    {
      "cell_type": "code",
      "source": [
        "criterion = nn.CrossEntropyLoss()\n",
        "optimizer = optim.Adam(model.parameters(), lr=learning_rate)"
      ],
      "metadata": {
        "id": "k0SnY2fAYuFQ"
      },
      "execution_count": null,
      "outputs": []
    },
    {
      "cell_type": "markdown",
      "source": [
        "#### Training the network\n",
        "\n",
        "1. Forward pass: ```scores = model(data)``` → Compute the output.\n",
        "\n",
        "2. Loss computation:  ```loss = criterion(scores, target)``` → Compare the output to the target and compute the loss.\n",
        "\n",
        "3. Backward pass:\n",
        " - ```optimizer.zero_grad()``` → Clear the previous gradients before the new backward pass.\n",
        "\n",
        " - ```loss.backward()``` → Compute the gradients of the loss with respect to the model parameters.\n",
        "\n",
        "4. Optimization step: ```optimizer.step()``` → Update the model parameters using the gradients."
      ],
      "metadata": {
        "id": "cbojOgg8JLH0"
      }
    },
    {
      "cell_type": "code",
      "source": [
        "for epochs in range(num_epochs):\n",
        "  for index, (data, target) in enumerate(train_loader):\n",
        "\n",
        "    # To get data to cude is available\n",
        "    data = data.to(device=device)\n",
        "    target = target.to(device=device)\n",
        "\n",
        "    # Reshaping into correct shape\n",
        "    data = data.reshape(data.shape[0], -1)\n",
        "\n",
        "    # Forward pass\n",
        "    scores = model(data)\n",
        "\n",
        "    # Compute the loss\n",
        "    loss = criterion(scores, target)\n",
        "\n",
        "    # Backward\n",
        "    optimizer.zero_grad()\n",
        "    loss.backward()\n",
        "\n",
        "    # Gradient descent\n",
        "    optimizer.step()"
      ],
      "metadata": {
        "collapsed": true,
        "id": "-rLDH2-BJNsb"
      },
      "execution_count": null,
      "outputs": []
    },
    {
      "cell_type": "markdown",
      "source": [
        "####Check accuracy on training and testing to evaluate model performance\n",
        "\n",
        "-  ```scores = model(data)``` → Compute the model's output predictions (logits) for the input data.\n",
        "\n",
        "- ```_, predictions = scores.max(1)``` → Get the index of the class with the highest score for each image (predicted class).\n",
        "\n",
        "- ```correct += (predictions == target).sum()``` → Count the number of correct predictions by comparing predictions to the true labels.\n",
        "\n",
        "- ```total_samples += predictions.size(0)```  → Keep track of the total number of samples processed.\n"
      ],
      "metadata": {
        "id": "75oEdRIPUWig"
      }
    },
    {
      "cell_type": "code",
      "source": [
        "def check_accuracy(loader, model):\n",
        "\n",
        "  correct = 0\n",
        "  total_samples = 0\n",
        "  model.eval()       # Set model in evaluation mode\n",
        "\n",
        "  if loader.dataset.train:\n",
        "    print('Checking accuracy on training data')\n",
        "  else:\n",
        "    print('Checking accuracy on test data')\n",
        "\n",
        "  with torch.no_grad():  # No need to calculate gradient\n",
        "    for data, target in loader:\n",
        "      data = data.to(device)\n",
        "      target = target.to(device)\n",
        "\n",
        "      data = data.reshape(data.shape[0], -1)\n",
        "\n",
        "      scores = model(data)\n",
        "      _, predictions = scores.max(1)\n",
        "      correct += (predictions == target).sum()\n",
        "      total_samples += predictions.size(0)\n",
        "\n",
        "  accuracy = (correct/total_samples) * 100\n",
        "  print(f'{correct}/{total_samples}')\n",
        "  print(f'The accuracy of model is {accuracy:.2f}%')\n",
        "\n",
        "  model.train()\n",
        "\n",
        "check_accuracy(train_loader, model)\n",
        "check_accuracy(test_loader, model)"
      ],
      "metadata": {
        "colab": {
          "base_uri": "https://localhost:8080/"
        },
        "id": "DgctYm_gUb1y",
        "outputId": "08e6d82d-45c2-40c7-a640-92c227bae7c5"
      },
      "execution_count": null,
      "outputs": [
        {
          "output_type": "stream",
          "name": "stdout",
          "text": [
            "Checking accuracy on training data\n",
            "57906/60000\n",
            "The accuracy of model is 96.51%\n",
            "Checking accuracy on test data\n",
            "9612/10000\n",
            "The accuracy of model is 96.12%\n"
          ]
        }
      ]
    },
    {
      "cell_type": "code",
      "source": [],
      "metadata": {
        "id": "cMeKXnraYOVB"
      },
      "execution_count": null,
      "outputs": []
    }
  ]
}